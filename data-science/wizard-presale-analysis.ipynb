{
 "cells": [
  {
   "cell_type": "code",
   "execution_count": 1,
   "metadata": {
    "collapsed": true
   },
   "outputs": [],
   "source": [
    "# simple notebook that shows how one can use graphql queries for data analysis"
   ]
  },
  {
   "cell_type": "code",
   "execution_count": 2,
   "metadata": {
    "collapsed": true
   },
   "outputs": [],
   "source": [
    "%matplotlib inline"
   ]
  },
  {
   "cell_type": "code",
   "execution_count": 3,
   "metadata": {
    "collapsed": false
   },
   "outputs": [],
   "source": [
    "import requests\n",
    "import pandas as pd\n",
    "import seaborn as sns\n",
    "import numpy as np\n",
    "from matplotlib import rcParams\n",
    "import matplotlib.pyplot as plt"
   ]
  },
  {
   "cell_type": "code",
   "execution_count": 4,
   "metadata": {
    "collapsed": true
   },
   "outputs": [],
   "source": [
    "URL = 'https://api.thegraph.com/subgraphs/id/QmUki7i1uPWYunwGyGq81VHaTohSJTEP1AMeu9tbXGSM3j'\n",
    "# number of events to return in one request (max: 1000)\n",
    "STEP = 1000"
   ]
  },
  {
   "cell_type": "code",
   "execution_count": 5,
   "metadata": {
    "collapsed": false
   },
   "outputs": [],
   "source": [
    "# query returns all (paginated) summoned wizards\n",
    "def query(first=STEP, skip=0):\n",
    "    q = (\n",
    "        \"{\"\n",
    "        \"wizards(first:\" + str(first) + \", \" + \"skip:\" +  str(skip) + \") {\"\n",
    "        \"id \"\n",
    "        \"tokenId \"\n",
    "            \"power \"\n",
    "            \"owner \"\n",
    "            \"element \"\n",
    "            \"costWei \"\n",
    "            \"blockNumber \"\n",
    "          \"}\"\n",
    "        \"}\"\n",
    "    ) \n",
    "    return q"
   ]
  },
  {
   "cell_type": "code",
   "execution_count": 6,
   "metadata": {
    "collapsed": false
   },
   "outputs": [],
   "source": [
    "def perform_request(url, query):\n",
    "    request = requests.post(url, json={'query': query})\n",
    "    if request.status_code == 200:\n",
    "        return request.json()\n",
    "    else:\n",
    "        raise Exception(\"Query failed to run by returning code of {}. {}\".format(request.status_code, query))"
   ]
  },
  {
   "cell_type": "code",
   "execution_count": 7,
   "metadata": {
    "collapsed": false,
    "scrolled": true
   },
   "outputs": [],
   "source": [
    "result = []\n",
    "j = 0\n",
    "while (True):\n",
    "    r = perform_request(URL, query(STEP, j*STEP))\n",
    "    if len(r['data']['wizards']) is 0:\n",
    "        break\n",
    "    result.extend(r['data']['wizards'])\n",
    "    j += 1"
   ]
  },
  {
   "cell_type": "code",
   "execution_count": 8,
   "metadata": {
    "collapsed": false
   },
   "outputs": [],
   "source": [
    "df = pd.DataFrame.from_records(\n",
    "    result\n",
    ")"
   ]
  },
  {
   "cell_type": "code",
   "execution_count": 9,
   "metadata": {
    "collapsed": false
   },
   "outputs": [
    {
     "data": {
      "text/html": [
       "<div>\n",
       "<style scoped>\n",
       "    .dataframe tbody tr th:only-of-type {\n",
       "        vertical-align: middle;\n",
       "    }\n",
       "\n",
       "    .dataframe tbody tr th {\n",
       "        vertical-align: top;\n",
       "    }\n",
       "\n",
       "    .dataframe thead th {\n",
       "        text-align: right;\n",
       "    }\n",
       "</style>\n",
       "<table border=\"1\" class=\"dataframe\">\n",
       "  <thead>\n",
       "    <tr style=\"text-align: right;\">\n",
       "      <th></th>\n",
       "      <th>blockNumber</th>\n",
       "      <th>costWei</th>\n",
       "      <th>element</th>\n",
       "      <th>id</th>\n",
       "      <th>owner</th>\n",
       "      <th>power</th>\n",
       "      <th>tokenId</th>\n",
       "    </tr>\n",
       "  </thead>\n",
       "  <tbody>\n",
       "    <tr>\n",
       "      <th>0</th>\n",
       "      <td>7781256</td>\n",
       "      <td>70000</td>\n",
       "      <td>1</td>\n",
       "      <td>0x000eead03c871a38ada29d0c5e93b2616da659d1454f...</td>\n",
       "      <td>0x8e1788f0f367542cfe2b81c3b43bc761cd1cba77</td>\n",
       "      <td>70</td>\n",
       "      <td>2485</td>\n",
       "    </tr>\n",
       "    <tr>\n",
       "      <th>1</th>\n",
       "      <td>7792622</td>\n",
       "      <td>70000</td>\n",
       "      <td>1</td>\n",
       "      <td>0x0024f9444c65af8b9ebe3ed08f2a421eb04cd4628e69...</td>\n",
       "      <td>0x4a9e7db01e359a3ff888e623dc41b38590b49d7b</td>\n",
       "      <td>70</td>\n",
       "      <td>3735</td>\n",
       "    </tr>\n",
       "    <tr>\n",
       "      <th>2</th>\n",
       "      <td>7783575</td>\n",
       "      <td>399160</td>\n",
       "      <td>4</td>\n",
       "      <td>0x002502f0a00864843f60121ace31dd3c59e0c922e13b...</td>\n",
       "      <td>0x16fce6f6b5579469e48cb9633105f36a52a0f9a6</td>\n",
       "      <td>399</td>\n",
       "      <td>3012</td>\n",
       "    </tr>\n",
       "    <tr>\n",
       "      <th>3</th>\n",
       "      <td>7782446</td>\n",
       "      <td>333212</td>\n",
       "      <td>3</td>\n",
       "      <td>0x002b0a8dccd55bfb239d353209d8b175ea3aac0b0bea...</td>\n",
       "      <td>0xfbdbcf1ebe27245e3488541f19cac902e53239a4</td>\n",
       "      <td>333</td>\n",
       "      <td>2811</td>\n",
       "    </tr>\n",
       "    <tr>\n",
       "      <th>4</th>\n",
       "      <td>7804891</td>\n",
       "      <td>70000</td>\n",
       "      <td>1</td>\n",
       "      <td>0x003fc311f62d3db875b467222cad13b75e49b7206bbe...</td>\n",
       "      <td>0x24cb9a6fb711911c53afa4d89c2fe8fbda034c41</td>\n",
       "      <td>70</td>\n",
       "      <td>4381</td>\n",
       "    </tr>\n",
       "  </tbody>\n",
       "</table>\n",
       "</div>"
      ],
      "text/plain": [
       "  blockNumber costWei  element  \\\n",
       "0     7781256   70000        1   \n",
       "1     7792622   70000        1   \n",
       "2     7783575  399160        4   \n",
       "3     7782446  333212        3   \n",
       "4     7804891   70000        1   \n",
       "\n",
       "                                                  id  \\\n",
       "0  0x000eead03c871a38ada29d0c5e93b2616da659d1454f...   \n",
       "1  0x0024f9444c65af8b9ebe3ed08f2a421eb04cd4628e69...   \n",
       "2  0x002502f0a00864843f60121ace31dd3c59e0c922e13b...   \n",
       "3  0x002b0a8dccd55bfb239d353209d8b175ea3aac0b0bea...   \n",
       "4  0x003fc311f62d3db875b467222cad13b75e49b7206bbe...   \n",
       "\n",
       "                                        owner  power  tokenId  \n",
       "0  0x8e1788f0f367542cfe2b81c3b43bc761cd1cba77     70     2485  \n",
       "1  0x4a9e7db01e359a3ff888e623dc41b38590b49d7b     70     3735  \n",
       "2  0x16fce6f6b5579469e48cb9633105f36a52a0f9a6    399     3012  \n",
       "3  0xfbdbcf1ebe27245e3488541f19cac902e53239a4    333     2811  \n",
       "4  0x24cb9a6fb711911c53afa4d89c2fe8fbda034c41     70     4381  "
      ]
     },
     "execution_count": 9,
     "metadata": {},
     "output_type": "execute_result"
    }
   ],
   "source": [
    "df.head()"
   ]
  },
  {
   "cell_type": "code",
   "execution_count": 10,
   "metadata": {
    "collapsed": false
   },
   "outputs": [],
   "source": [
    "for col in ['blockNumber', 'costWei']:\n",
    "    df[col] = df[col].astype(np.int64)"
   ]
  },
  {
   "cell_type": "code",
   "execution_count": 11,
   "metadata": {
    "collapsed": true
   },
   "outputs": [],
   "source": [
    "wizard_colors = {\n",
    "    1: '#A66EFF', # ELEMENT_NEUTRAL\n",
    "    2: '#FF506E', # ELEMENT_FIRE\n",
    "    3: '#66EDFF', # ELEMENT_WATER\n",
    "    4: '#84FF61', # ELEMENT_WIND\n",
    "}\n",
    "\n",
    "wizard_elements = {\n",
    "    1: 'ELEMENT_NEUTRAL',\n",
    "    2: 'ELEMENT_FIRE', \n",
    "    3: 'ELEMENT_WATER',\n",
    "    4: 'ELEMENT_WIND', \n",
    "}"
   ]
  },
  {
   "cell_type": "code",
   "execution_count": 12,
   "metadata": {
    "collapsed": true
   },
   "outputs": [],
   "source": [
    "# figure size in inches\n",
    "rcParams['figure.figsize'] = 11.7, 8.27"
   ]
  },
  {
   "cell_type": "code",
   "execution_count": 13,
   "metadata": {
    "collapsed": false,
    "scrolled": false
   },
   "outputs": [
    {
     "data": {
      "image/png": "[encoded data removed]",
      "text/plain": [
       "<Figure size 842.4x595.44 with 1 Axes>"
      ]
     },
     "metadata": {},
     "output_type": "display_data"
    }
   ],
   "source": [
    "g = sns.countplot(\n",
    "    x='element',\n",
    "    data=df, \n",
    "    palette=wizard_colors,         \n",
    "    linewidth=2,\n",
    "    edgecolor=(0, 0, 0),\n",
    ")\n",
    "\n",
    "g.set_xticklabels(wizard_elements.values(), rotation=45)\n",
    "g.set_title('Total Cheeze Wizards Summoned')\n",
    "g.set_xlabel('Element Type')\n",
    "g.set_ylabel('Total Count')\n",
    "plt.tight_layout()"
   ]
  },
  {
   "cell_type": "code",
   "execution_count": 14,
   "metadata": {
    "collapsed": false
   },
   "outputs": [],
   "source": [
    "bn_min = df['blockNumber'].min()\n",
    "bn_max = df['blockNumber'].max()"
   ]
  },
  {
   "cell_type": "code",
   "execution_count": 15,
   "metadata": {
    "collapsed": false,
    "scrolled": true
   },
   "outputs": [],
   "source": [
    "df['cumcount'] = df.sort_values(by='blockNumber').groupby(by=['element']).cumcount() + 1"
   ]
  },
  {
   "cell_type": "code",
   "execution_count": 16,
   "metadata": {
    "collapsed": false
   },
   "outputs": [
    {
     "data": {
      "text/html": [
       "<div>\n",
       "<style scoped>\n",
       "    .dataframe tbody tr th:only-of-type {\n",
       "        vertical-align: middle;\n",
       "    }\n",
       "\n",
       "    .dataframe tbody tr th {\n",
       "        vertical-align: top;\n",
       "    }\n",
       "\n",
       "    .dataframe thead th {\n",
       "        text-align: right;\n",
       "    }\n",
       "</style>\n",
       "<table border=\"1\" class=\"dataframe\">\n",
       "  <thead>\n",
       "    <tr style=\"text-align: right;\">\n",
       "      <th></th>\n",
       "      <th>blockNumber</th>\n",
       "      <th>costWei</th>\n",
       "      <th>element</th>\n",
       "      <th>id</th>\n",
       "      <th>owner</th>\n",
       "      <th>power</th>\n",
       "      <th>tokenId</th>\n",
       "      <th>cumcount</th>\n",
       "    </tr>\n",
       "  </thead>\n",
       "  <tbody>\n",
       "    <tr>\n",
       "      <th>0</th>\n",
       "      <td>7781256</td>\n",
       "      <td>70000</td>\n",
       "      <td>1</td>\n",
       "      <td>0x000eead03c871a38ada29d0c5e93b2616da659d1454f...</td>\n",
       "      <td>0x8e1788f0f367542cfe2b81c3b43bc761cd1cba77</td>\n",
       "      <td>70</td>\n",
       "      <td>2485</td>\n",
       "      <td>288</td>\n",
       "    </tr>\n",
       "    <tr>\n",
       "      <th>1</th>\n",
       "      <td>7792622</td>\n",
       "      <td>70000</td>\n",
       "      <td>1</td>\n",
       "      <td>0x0024f9444c65af8b9ebe3ed08f2a421eb04cd4628e69...</td>\n",
       "      <td>0x4a9e7db01e359a3ff888e623dc41b38590b49d7b</td>\n",
       "      <td>70</td>\n",
       "      <td>3735</td>\n",
       "      <td>760</td>\n",
       "    </tr>\n",
       "    <tr>\n",
       "      <th>2</th>\n",
       "      <td>7783575</td>\n",
       "      <td>399160</td>\n",
       "      <td>4</td>\n",
       "      <td>0x002502f0a00864843f60121ace31dd3c59e0c922e13b...</td>\n",
       "      <td>0x16fce6f6b5579469e48cb9633105f36a52a0f9a6</td>\n",
       "      <td>399</td>\n",
       "      <td>3012</td>\n",
       "      <td>429</td>\n",
       "    </tr>\n",
       "    <tr>\n",
       "      <th>3</th>\n",
       "      <td>7782446</td>\n",
       "      <td>333212</td>\n",
       "      <td>3</td>\n",
       "      <td>0x002b0a8dccd55bfb239d353209d8b175ea3aac0b0bea...</td>\n",
       "      <td>0xfbdbcf1ebe27245e3488541f19cac902e53239a4</td>\n",
       "      <td>333</td>\n",
       "      <td>2811</td>\n",
       "      <td>394</td>\n",
       "    </tr>\n",
       "    <tr>\n",
       "      <th>4</th>\n",
       "      <td>7804891</td>\n",
       "      <td>70000</td>\n",
       "      <td>1</td>\n",
       "      <td>0x003fc311f62d3db875b467222cad13b75e49b7206bbe...</td>\n",
       "      <td>0x24cb9a6fb711911c53afa4d89c2fe8fbda034c41</td>\n",
       "      <td>70</td>\n",
       "      <td>4381</td>\n",
       "      <td>1171</td>\n",
       "    </tr>\n",
       "  </tbody>\n",
       "</table>\n",
       "</div>"
      ],
      "text/plain": [
       "   blockNumber  costWei  element  \\\n",
       "0      7781256    70000        1   \n",
       "1      7792622    70000        1   \n",
       "2      7783575   399160        4   \n",
       "3      7782446   333212        3   \n",
       "4      7804891    70000        1   \n",
       "\n",
       "                                                  id  \\\n",
       "0  0x000eead03c871a38ada29d0c5e93b2616da659d1454f...   \n",
       "1  0x0024f9444c65af8b9ebe3ed08f2a421eb04cd4628e69...   \n",
       "2  0x002502f0a00864843f60121ace31dd3c59e0c922e13b...   \n",
       "3  0x002b0a8dccd55bfb239d353209d8b175ea3aac0b0bea...   \n",
       "4  0x003fc311f62d3db875b467222cad13b75e49b7206bbe...   \n",
       "\n",
       "                                        owner  power  tokenId  cumcount  \n",
       "0  0x8e1788f0f367542cfe2b81c3b43bc761cd1cba77     70     2485       288  \n",
       "1  0x4a9e7db01e359a3ff888e623dc41b38590b49d7b     70     3735       760  \n",
       "2  0x16fce6f6b5579469e48cb9633105f36a52a0f9a6    399     3012       429  \n",
       "3  0xfbdbcf1ebe27245e3488541f19cac902e53239a4    333     2811       394  \n",
       "4  0x24cb9a6fb711911c53afa4d89c2fe8fbda034c41     70     4381      1171  "
      ]
     },
     "execution_count": 16,
     "metadata": {},
     "output_type": "execute_result"
    }
   ],
   "source": [
    "df.head()"
   ]
  },
  {
   "cell_type": "code",
   "execution_count": 17,
   "metadata": {
    "collapsed": false
   },
   "outputs": [
    {
     "data": {
      "image/png": "[encoded data removed]",
      "text/plain": [
       "<Figure size 842.4x595.44 with 1 Axes>"
      ]
     },
     "metadata": {},
     "output_type": "display_data"
    }
   ],
   "source": [
    "g = sns.lineplot(\n",
    "    x=\"blockNumber\", \n",
    "    y=\"cumcount\",\n",
    "    hue=\"element\", \n",
    "    ci=None,\n",
    "    estimator=None,\n",
    "    palette=wizard_colors,         \n",
    "    data=df,\n",
    "    linewidth=2,\n",
    ");\n",
    "\n",
    "g.grid(True, lw = 2, ls = '--', c = '.85')\n",
    "\n",
    "g.set_title('Total Cheeze Wizards Summoned')\n",
    "g.set_xlim([bn_min - 4000, 7830273])\n",
    "g.set_xlabel('Block Number')\n",
    "g.set_ylabel('Cummulative Count')\n",
    "\n",
    "legend = g.axes.legend()\n",
    "legend.texts[0].set_text(\"Element Type\")\n",
    "\n",
    "for k, v in wizard_elements.items():\n",
    "    legend.texts[k].set_text(v)"
   ]
  }
 ],
 "metadata": {
  "kernelspec": {
   "display_name": "Python 3",
   "language": "python",
   "name": "python3"
  },
  "language_info": {
   "codemirror_mode": {
    "name": "ipython",
    "version": 3
   },
   "file_extension": ".py",
   "mimetype": "text/x-python",
   "name": "python",
   "nbconvert_exporter": "python",
   "pygments_lexer": "ipython3",
   "version": "3.6.7"
  }
 },
 "nbformat": 4,
 "nbformat_minor": 2
}
